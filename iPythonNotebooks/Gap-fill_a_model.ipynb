{
 "cells": [
  {
   "cell_type": "markdown",
   "metadata": {},
   "source": [
    "# Gap-fill a model in PyFBA\n",
    "\n",
    "by Daniel Cuevas\n",
    "\n",
    "## Introduction\n",
    "\n",
    "In this notebook, we will present the steps to generate a genome-scale metabolic model from *RAST* annotations, gap-fill the model on rich LB type media, and save the model to hard disk.\n",
    "\n",
    "*There is currently a known bug that prevents gap-filling using the JSON ModelSEED parser, for this reason the TSV parser is recommended and provided as the default.\n",
    "\n",
    "---\n",
    "The required files and information for this notebook:\n",
    "* List of functional roles from *RAST* (normally labeled 'assigned_functions' from the **Genome Directory** download).\n",
    "* Organism name\n",
    "* Organism ID\n",
    "* Media file\n",
    "* Close genomes functional roles file\n",
    "* Directory on hard disk to store model"
   ]
  },
  {
   "cell_type": "code",
   "execution_count": 1,
   "metadata": {},
   "outputs": [],
   "source": [
    "import sys\n",
    "import os\n",
    "import PyFBA"
   ]
  },
  {
   "cell_type": "markdown",
   "metadata": {},
   "source": [
    "## Generate model\n",
    "The first step shows how to build the model from *RAST* functional roles."
   ]
  },
  {
   "cell_type": "code",
   "execution_count": 2,
   "metadata": {},
   "outputs": [],
   "source": [
    "model_functions_file = \"ungapfilled_model/citrobacter.assigned_functions\"\n",
    "close_genomes_functions_file = \"ungapfilled_model/closest.genomes.roles\"\n",
    "org_name = \"Citrobacter sedlakii\"\n",
    "org_id = \"Citrobacter sedlakii\""
   ]
  },
  {
   "cell_type": "code",
   "execution_count": 3,
   "metadata": {},
   "outputs": [],
   "source": [
    "model = PyFBA.model.roles_to_model(model_functions_file, org_id, org_name)"
   ]
  },
  {
   "cell_type": "markdown",
   "metadata": {},
   "source": [
    "The model has been generated and is now ready to use for flux-balance analysis simulations. Running flux-balance analysis will show the model does not contain all required metabolism to grow in the LB media.\n",
    "\n",
    "Here are the LB media contents. For PyFBA media files are stored in directory indicated by environmental variable 'PYFBA_MEDIA_DIR'. *This step is only to show file contents but is not required for gap-filling.*"
   ]
  },
  {
   "cell_type": "code",
   "execution_count": 4,
   "metadata": {},
   "outputs": [
    {
     "name": "stdout",
     "output_type": "stream",
     "text": [
      "Compound\tName\tFormula\tCharge\n",
      "cpd03424\tVitamin B12\tC61H86CoN13O14PR\t6\n",
      "cpd00215\tPyridoxal\tC8H9NO3\t0\n",
      "cpd00028\tHeme\tC34H30FeN4O4\t-2\n",
      "cpd10515\tFe2+\tFe\t2\n",
      "cpd00030\tMn2+\tMn\t2\n",
      "cpd00149\tCo2+\tCo\t2\n",
      "cpd00058\tCu2+\tCu\t2\n",
      "cpd00099\tCl-\tCl\t-1\n",
      "cpd00007\tO2\tO2\t0\n",
      "cpd00034\tZn2+\tZn\t2\n",
      "cpd00156\tL-Valine\tC5H11NO2\t0\n",
      "cpd00249\tUridine\tC9H12N2O6\t0\n",
      "cpd00092\tUracil\tC4H4N2O2\t0\n",
      "cpd00069\tL-Tyrosine\tC9H11NO3\t0\n",
      "cpd00065\tL-Tryptophan\tC11H12N2O2\t0\n",
      "cpd00184\tThymidine\tC10H14N2O5\t0\n",
      "cpd00161\tL-Threonine\tC4H9NO3\t0\n",
      "cpd00048\tSulfate\tO4S\t-2\n",
      "cpd00054\tL-Serine\tC3H7NO3\t0\n",
      "cpd00220\tRiboflavin\tC17H20N4O6\t0\n",
      "cpd00129\tL-Proline\tC5H8NO2\t-1\n",
      "cpd00644\tPAN\tC9H16NO5\t-1\n",
      "cpd00009\tPhosphate\tHO4P\t-2\n",
      "cpd00066\tL-Phenylalanine\tC9H11NO2\t0\n",
      "cpd00218\tNiacin\tC6H4NO2\t-1\n",
      "cpd00971\tNa+\tNa\t1\n",
      "cpd00254\tMg\tMg\t2\n",
      "cpd00060\tL-Methionine\tC5H11NO2S\t0\n",
      "cpd00039\tL-Lysine\tC6H15N2O2\t1\n",
      "cpd00107\tL-Leucine\tC6H13NO2\t0\n",
      "cpd00205\tK+\tK\t1\n",
      "cpd00246\tInosine\tC10H12N4O5\t0\n",
      "cpd00322\tL-Isoleucine\tC6H13NO2\t0\n",
      "cpd00226\tHYXN\tC5H4N4O\t0\n",
      "cpd00119\tL-Histidine\tC6H9N3O2\t0\n",
      "cpd00531\tHg2+\tHg\t2\n",
      "cpd00001\tH2O\tH2O\t0\n",
      "cpd00067\tH+\tH\t1\n",
      "cpd00033\tGlycine\tC2H5NO2\t0\n",
      "cpd00023\tL-Glutamate\tC5H8NO4\t-1\n",
      "cpd00027\tD-Glucose\tC6H12O6\t0\n",
      "cpd00393\tFolate\tC19H17N7O6\t-2\n",
      "cpd10516\tfe3\tFe\t3\n",
      "cpd00654\tDeoxycytidine\tC9H13N3O4\t0\n",
      "cpd00438\tDeoxyadenosine\tC10H13N5O3\t0\n",
      "cpd00381\tL-Cystine\tC6H12N2O4S2\t0\n",
      "cpd11595\tchromate\tH2O4Cr\t-2\n",
      "cpd01012\tCd2+\tCd\t2\n",
      "cpd00063\tCa2+\tCa\t2\n",
      "cpd00041\tL-Aspartate\tC4H6NO4\t-1\n",
      "cpd01048\tArsenate\tHO4As\t-2\n",
      "cpd00051\tL-Arginine\tC6H15N4O2\t1\n",
      "cpd00035\tL-Alanine\tC3H7NO2\t0\n",
      "cpd00182\tAdenosine\tC10H13N5O4\t0\n",
      "cpd00311\tGuanosine\tC10H13N5O5\t0\n",
      "cpd00126\tGMP\tC10H13N5O8P\t-1\n",
      "cpd00018\tAMP\tC10H13N5O7P\t-1\n",
      "cpd00091\tUMP\tC9H12N2O9P\t-1\n",
      "cpd00046\tCMP\tC9H13N3O8P\t-1\n",
      "cpd00793\tThiamine phosphate\tC12H17N4O4PS\t0\n",
      "cpd00541\tLipoate\tC8H13O2S2\t-1\n",
      "cpd00239\tH2S\tH2S\t0\n",
      "cpd00013\tNH3\tH4N\t1\n",
      "cpd00244\tNi2+\tNi\t2\n",
      "cpd11574\tMolybdate\tH2MoO4\t0\n"
     ]
    }
   ],
   "source": [
    "lb_media_file = os.path.join(os.environ[\"PYFBA_MEDIA_DIR\"], \"ArgonneLB.txt\")\n",
    "with open(lb_media_file) as f:\n",
    "    for l in f:\n",
    "        print(l, end=\"\")"
   ]
  },
  {
   "cell_type": "code",
   "execution_count": 5,
   "metadata": {},
   "outputs": [
    {
     "name": "stdout",
     "output_type": "stream",
     "text": [
      "Growth: False\n"
     ]
    }
   ],
   "source": [
    "# status := optimization status of FBA simplex solver\n",
    "# flux_value := biomass flux value (objective function)\n",
    "# growth := boolean whether the model was able to grow or not\n",
    "status, flux_value, growth = model.run_fba(\"ArgonneLB.txt\")\n",
    "print(\"Growth:\", growth)"
   ]
  },
  {
   "cell_type": "markdown",
   "metadata": {},
   "source": [
    "## Gap-fill model on LB media\n",
    "Each model object in PyFBA contains a `gapfill()` function that requires two arguments:\n",
    "1. Media file\n",
    "2. Close genomes functional roles file\n",
    "\n",
    "The other two arguments here, **`use_flux`** and **`verbose`**, are optional.\n",
    "* **`use_flux`** is a boolean flag that will identify which reactions that were added during the first phase of gap-filling have a non-active or zero flux. These reactions are then removed before the second phase of gap-filling occurs. This lowers the number of reactions that must be tested during second phase, thus speeding up the gap-filling process.\n",
    "* **`verbose`** is an integer flag that will output status update to `stderr`."
   ]
  },
  {
   "cell_type": "code",
   "execution_count": 6,
   "metadata": {},
   "outputs": [
    {
     "name": "stderr",
     "output_type": "stream",
     "text": [
      "Current model contains 1518 reactions\n",
      "Finding media import reactions\n",
      "Found 139 reactions\n",
      "New total: 1657 reactions\n",
      "Finding essential reactions\n",
      "Found 109 reactions\n",
      "New total: 1702 reactions\n",
      "Finding close organism reactions\n",
      "Found 1799 reactions\n",
      "New total: 2045 reactions\n",
      "Finding subsystem reactions\n",
      "Found 235 reactions\n",
      "New total: 2280 reactions\n",
      "Finding EC reactions\n",
      "Found 0 reactions\n",
      "New total: 2280 reactions\n",
      "Finding compound-probability reactions\n",
      "Found 3255 reactions\n",
      "New total: 5535 reactions\n",
      "Finding orphan-compound reactions\n",
      "Found 3339 reactions\n",
      "New total: 8874 reactions\n",
      "Unable to gap-fill model\n"
     ]
    },
    {
     "name": "stdout",
     "output_type": "stream",
     "text": [
      "Model was unable to gap-fill!\n"
     ]
    }
   ],
   "source": [
    "success = model.gapfill(\"ArgonneLB.txt\", close_genomes_functions_file, use_flux=True, verbose=1)\n",
    "if not success:\n",
    "    print(\"Model was unable to gap-fill!\")"
   ]
  },
  {
   "cell_type": "markdown",
   "metadata": {},
   "source": [
    "We can view the reactions that were gap-filled into the model."
   ]
  },
  {
   "cell_type": "code",
   "execution_count": 7,
   "metadata": {
    "scrolled": true
   },
   "outputs": [],
   "source": [
    "for n, rid in enumerate(model.gf_reactions, start=1):\n",
    "    print(\"({}) {}: {}\".format(n, rid, model.reactions[rid].equation))"
   ]
  },
  {
   "cell_type": "markdown",
   "metadata": {},
   "source": [
    "## Save model\n",
    "The second step shows how to save the model to hard disk."
   ]
  },
  {
   "cell_type": "code",
   "execution_count": 8,
   "metadata": {},
   "outputs": [],
   "source": [
    "model_directory = \"save_citrobacter_sedlakii\"\n",
    "PyFBA.model.save_model(model, model_directory)"
   ]
  },
  {
   "cell_type": "markdown",
   "metadata": {},
   "source": [
    "Model has been stored. Here is a directory listing of the files that were created."
   ]
  },
  {
   "cell_type": "code",
   "execution_count": 9,
   "metadata": {
    "scrolled": true
   },
   "outputs": [
    {
     "name": "stdout",
     "output_type": "stream",
     "text": [
      "Citrobacter sedlakii.compounds: 35315B\n",
      "Citrobacter sedlakii.gfmedia: 0B\n",
      "Citrobacter sedlakii.gfreactions: 0B\n",
      "Citrobacter sedlakii.info: 114B\n",
      "Citrobacter sedlakii.reactions: 13662B\n",
      "Citrobacter sedlakii.roles: 70247B\n"
     ]
    }
   ],
   "source": [
    "for f in os.listdir(model_directory):\n",
    "    fp = os.path.join(model_directory, f)\n",
    "    print(f, \": \", os.path.getsize(fp), \"B\", sep=\"\")"
   ]
  }
 ],
 "metadata": {
  "kernelspec": {
   "display_name": "Python 3",
   "language": "python",
   "name": "python3"
  },
  "language_info": {
   "codemirror_mode": {
    "name": "ipython",
    "version": 3
   },
   "file_extension": ".py",
   "mimetype": "text/x-python",
   "name": "python",
   "nbconvert_exporter": "python",
   "pygments_lexer": "ipython3",
   "version": "3.6.9"
  }
 },
 "nbformat": 4,
 "nbformat_minor": 2
}
