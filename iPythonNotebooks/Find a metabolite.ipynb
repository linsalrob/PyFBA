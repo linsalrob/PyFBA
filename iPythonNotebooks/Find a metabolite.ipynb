{
 "cells": [
  {
   "cell_type": "markdown",
   "metadata": {},
   "source": [
    "# How to find a metabolite in the model\n",
    "\n",
    "This identifies metabolites present in either the ModelSEED database or your SBML file. Change the \"looking_for\" or \"find_me\" variables to find different metabolites."
   ]
  },
  {
   "cell_type": "code",
   "execution_count": 13,
   "metadata": {},
   "outputs": [],
   "source": [
    "import PyFBA"
   ]
  },
  {
   "cell_type": "markdown",
   "metadata": {},
   "source": [
    "Finding metabolites (and their associated reactions) in the ModelSEED Database:"
   ]
  },
  {
   "cell_type": "code",
   "execution_count": 1,
   "metadata": {
    "scrolled": true
   },
   "outputs": [
    {
     "name": "stdout",
     "output_type": "stream",
     "text": [
      "Found Inosine (location: ) Reactions:  set()\n",
      "Found 5'-Oxoinosine (location: ) Reactions:  set()\n",
      "Found Inosine-5'-carboxylate (location: ) Reactions:  set()\n",
      "Found Inosine 5'-tetraphosphate (location: ) Reactions:  set()\n",
      "Found 6-Thioinosine 5'-monophosphate (location: ) Reactions:  set()\n",
      "Found Deoxyinosine (location: ) Reactions:  set()\n",
      "Found 5'-Butyrylphosphoinosine (location: ) Reactions:  set()\n",
      "Found Lentiginosine (location: ) Reactions:  set()\n",
      "Found 5'-Acylphosphoinosine (location: ) Reactions:  set()\n",
      "Found 6-Methylthioinosine-5'-monophosphate (location: ) Reactions:  set()\n",
      "Found 6-Thioinosine-5'-diphosphate (location: ) Reactions:  set()\n",
      "Found 6-Thioinosine-5'-triphosphate (location: ) Reactions:  set()\n",
      "Found 5'-S-Methyl-5'-thioinosine (location: ) Reactions:  set()\n",
      "Found 7-methylinosine (location: ) Reactions:  set()\n",
      "Found 1-methylinosine (location: ) Reactions:  set()\n",
      "Found tRNA-Arg-inosine34 (location: ) Reactions:  set()\n",
      "Found Inosine (location: c) Reactions:  {'rxn19932', 'rxn30907', 'rxn31888', 'rxn08753', 'rxn01299', 'rxn04054', 'rxn31940', 'rxn05316', 'rxn01137', 'rxn18974', 'rxn30713', 'rxn00042', 'rxn37600', 'rxn31938', 'rxn00831', 'rxn20983', 'rxn15248', 'rxn27951', 'rxn27949', 'rxn32620', 'rxn32633', 'rxn01358', 'rxn37599', 'rxn28604', 'rxn29210', 'rxn29985', 'rxn32622', 'rxn12445', 'rxn30598', 'rxn08754', 'rxn19933', 'rxn00835', 'rxn31942'}\n",
      "Found 5'-Oxoinosine (location: c) Reactions:  {'rxn11662', 'rxn00042', 'rxn04055'}\n",
      "Found Inosine 5'-tetraphosphate (location: c) Reactions:  {'rxn00516'}\n",
      "Found 5'-Butyrylphosphoinosine (location: c) Reactions:  {'rxn01238'}\n",
      "Found Deoxyinosine (location: c) Reactions:  {'rxn11225', 'rxn30004', 'rxn10055', 'rxn32204', 'rxn08343', 'rxn12417', 'rxn29209', 'rxn01985', 'rxn30042', 'rxn32501', 'rxn30597', 'rxn09687', 'rxn08344', 'rxn32203', 'rxn09010', 'rxn01858', 'rxn32504', 'rxn19457'}\n",
      "Found Inosine (location: e) Reactions:  {'rxn28604', 'rxn29210', 'rxn08753', 'rxn08754', 'rxn05316'}\n",
      "Found Deoxyinosine (location: e) Reactions:  {'rxn08343', 'rxn29209', 'rxn09687', 'rxn08344'}\n",
      "Found 6-Thioinosine 5'-monophosphate (location: c) Reactions:  {'rxn11768', 'rxn11767', 'rxn11771', 'rxn11769', 'rxn12025', 'rxn11765'}\n",
      "Found 6-Methylthioinosine-5'-monophosphate (location: c) Reactions:  {'rxn11767', 'rxn11766'}\n",
      "Found 6-Thioinosine-5'-diphosphate (location: c) Reactions:  {'rxn11770', 'rxn11769', 'rxn12025', 'rxn12026'}\n",
      "Found 6-Thioinosine-5'-triphosphate (location: c) Reactions:  {'rxn11770', 'rxn11771', 'rxn12026'}\n",
      "Found Deoxyinosine (location: h) Reactions:  {'rxn12417'}\n",
      "Found Inosine (location: h) Reactions:  {'rxn12445'}\n",
      "Found 5'-S-Methyl-5'-thioinosine (location: c) Reactions:  {'rxn16503', 'rxn16511'}\n",
      "Found tRNA-Arg-inosine34 (location: c) Reactions:  {'rxn37808', 'rxn25976'}\n"
     ]
    }
   ],
   "source": [
    "compounds, reactions, enzymes = PyFBA.parse.model_seed.compounds_reactions_enzymes('gramnegative')\n",
    "looking_for = 'inosine'\n",
    "for c in compounds:\n",
    "    if looking_for in c.lower():\n",
    "        print(\"Found \" + c + \" Reactions:  \" + str(compounds[c].reactions))"
   ]
  },
  {
   "cell_type": "markdown",
   "metadata": {},
   "source": [
    "Finding metabolites in your SBML file:"
   ]
  },
  {
   "cell_type": "code",
   "execution_count": 5,
   "metadata": {},
   "outputs": [],
   "source": [
    "sbml = PyFBA.parse.parse_sbml_file('Citrobacter_sedlakii.sbml')"
   ]
  },
  {
   "cell_type": "code",
   "execution_count": 12,
   "metadata": {},
   "outputs": [
    {
     "name": "stdout",
     "output_type": "stream",
     "text": [
      "Found Inosine (location: c)\n",
      "Found Inosine (location: e)\n",
      "Found Deoxyinosine (location: c)\n",
      "Found Deoxyinosine (location: e)\n",
      "Found Inosine_b (location: e)\n",
      "Found Deoxyinosine_b (location: e)\n"
     ]
    }
   ],
   "source": [
    "cpds = sbml.get_all_compounds()\n",
    "find_me = \"inosine\"\n",
    "for c in cpds:\n",
    "    cpd = str(c)\n",
    "    if find_me in cpd.lower():\n",
    "        print(\"Found {}\".format(str(c)))"
   ]
  }
 ],
 "metadata": {
  "kernelspec": {
   "display_name": "Python 3",
   "language": "python",
   "name": "python3"
  },
  "language_info": {
   "codemirror_mode": {
    "name": "ipython",
    "version": 3
   },
   "file_extension": ".py",
   "mimetype": "text/x-python",
   "name": "python",
   "nbconvert_exporter": "python",
   "pygments_lexer": "ipython3",
   "version": "3.6.9"
  },
  "name": ""
 },
 "nbformat": 4,
 "nbformat_minor": 1
}
