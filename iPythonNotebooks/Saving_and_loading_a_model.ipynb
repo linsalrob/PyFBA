{
 "cells": [
  {
   "cell_type": "markdown",
   "metadata": {},
   "source": [
    "# Generating, saving, loading models in PyFBA\n",
    "\n",
    "by Daniel Cuevas\n",
    "\n",
    "## Introduction\n",
    "\n",
    "In this notebook, we will present the steps to generate a genome-scale metabolic model from *RAST* annotations, save the model on your computer, and load the model from your computer.\n",
    "\n",
    "---\n",
    "The required files and information for this notebook:\n",
    "* List of functional roles from *RAST* (normally labeled 'assigned_functions' from the **Genome Directory** download). \n",
    "* If this file is no longer available, download the `.gff3` file and use `extract_functions.py` in the **example_code** directory\n",
    "* Organism name\n",
    "* Organism ID\n",
    "* Directory on hard disk to store model"
   ]
  },
  {
   "cell_type": "code",
   "execution_count": 1,
   "metadata": {},
   "outputs": [],
   "source": [
    "import sys\n",
    "import os\n",
    "import PyFBA"
   ]
  },
  {
   "cell_type": "markdown",
   "metadata": {},
   "source": [
    "## Generate model\n",
    "The first step shows how to build the model from *RAST* functional roles."
   ]
  },
  {
   "cell_type": "code",
   "execution_count": 2,
   "metadata": {},
   "outputs": [],
   "source": [
    "model_functions_file = \"ungapfilled_model/citrobacter.assigned_functions\"\n",
    "org_name = \"Citrobacter sedlakii\"\n",
    "org_id = \"Citrobacter sedlakii\""
   ]
  },
  {
   "cell_type": "code",
   "execution_count": 3,
   "metadata": {},
   "outputs": [],
   "source": [
    "model = PyFBA.model.roles_to_model(model_functions_file, org_id, org_name)"
   ]
  },
  {
   "cell_type": "markdown",
   "metadata": {},
   "source": [
    "The model has been generated and is now ready to use for flux-balance analysis simulations.\n",
    "\n",
    "*Note: model should not grow because it has not been gap-filled*"
   ]
  },
  {
   "cell_type": "code",
   "execution_count": 4,
   "metadata": {},
   "outputs": [
    {
     "name": "stdout",
     "output_type": "stream",
     "text": [
      "Growth: False\n"
     ]
    }
   ],
   "source": [
    "# status := optimization status of FBA simplex solver\n",
    "# flux_value := biomass flux value (objective function)\n",
    "# growth := boolean whether the model was able to grow or not\n",
    "# Note: model should not grow because it has not been gap-filled\n",
    "status, flux_value, growth = model.run_fba(\"ArgonneLB.txt\")\n",
    "print(\"Growth:\", growth)"
   ]
  },
  {
   "cell_type": "markdown",
   "metadata": {},
   "source": [
    "## Save model\n",
    "The second step shows how to save the model to hard disk."
   ]
  },
  {
   "cell_type": "code",
   "execution_count": 5,
   "metadata": {},
   "outputs": [],
   "source": [
    "model_directory = \"save_citrobacter_sedlakii\"\n",
    "PyFBA.model.save_model(model, model_directory)"
   ]
  },
  {
   "cell_type": "markdown",
   "metadata": {},
   "source": [
    "Model has been stored. Here is a directory listing of the files that were created.\n",
    "\n",
    "*Note: files for **gfmedia** and **gfreactions** will be 0 Bytes in size because gap-filling was not performed.*"
   ]
  },
  {
   "cell_type": "code",
   "execution_count": 6,
   "metadata": {
    "scrolled": true
   },
   "outputs": [
    {
     "name": "stdout",
     "output_type": "stream",
     "text": [
      "Citrobacter sedlakii.compounds: 35315B\n",
      "Citrobacter sedlakii.gfmedia: 0B\n",
      "Citrobacter sedlakii.gfreactions: 0B\n",
      "Citrobacter sedlakii.info: 114B\n",
      "Citrobacter sedlakii.reactions: 13662B\n",
      "Citrobacter sedlakii.roles: 70247B\n"
     ]
    }
   ],
   "source": [
    "for f in os.listdir(model_directory):\n",
    "    fp = os.path.join(model_directory, f)\n",
    "    print(f, \": \", os.path.getsize(fp), \"B\", sep=\"\")"
   ]
  },
  {
   "cell_type": "markdown",
   "metadata": {},
   "source": [
    "## Load model\n",
    "The third step shows how to load the model from hard disk."
   ]
  },
  {
   "cell_type": "code",
   "execution_count": 7,
   "metadata": {},
   "outputs": [],
   "source": [
    "loaded_model = PyFBA.model.load_model(model_directory, org_name)"
   ]
  },
  {
   "cell_type": "markdown",
   "metadata": {},
   "source": [
    "The model has been loaded and is ready for use in flux-balance analysis simulations.\n",
    "\n",
    "*Note: model should not grow because it has not been gap-filled*"
   ]
  },
  {
   "cell_type": "code",
   "execution_count": 8,
   "metadata": {},
   "outputs": [
    {
     "name": "stdout",
     "output_type": "stream",
     "text": [
      "Growth: False\n"
     ]
    }
   ],
   "source": [
    "# status := optimization status of FBA simplex solver\n",
    "# flux_value := biomass flux value (objective function)\n",
    "# growth := boolean whether the model was able to grow or not\n",
    "# Note: model should not grow because it has not been gap-filled\n",
    "status, flux_value, growth = loaded_model.run_fba(\"ArgonneLB.txt\")\n",
    "print(\"Growth:\", growth)"
   ]
  },
  {
   "cell_type": "code",
   "execution_count": null,
   "metadata": {},
   "outputs": [],
   "source": []
  }
 ],
 "metadata": {
  "kernelspec": {
   "display_name": "Python 3",
   "language": "python",
   "name": "python3"
  },
  "language_info": {
   "codemirror_mode": {
    "name": "ipython",
    "version": 3
   },
   "file_extension": ".py",
   "mimetype": "text/x-python",
   "name": "python",
   "nbconvert_exporter": "python",
   "pygments_lexer": "ipython3",
   "version": "3.6.9"
  }
 },
 "nbformat": 4,
 "nbformat_minor": 2
}
