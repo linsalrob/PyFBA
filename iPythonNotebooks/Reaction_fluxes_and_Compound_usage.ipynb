{
 "cells": [
  {
   "cell_type": "markdown",
   "metadata": {},
   "source": [
    "# Reaction fluxes and compound usage\n",
    "\n",
    "by Daniel Cuevas\n",
    "\n",
    "## Introduction\n",
    "\n",
    "In this notebook we will highlight features in _PyFBA_ that allows the user to obtain a model's reaction distribution after performing flux-balance analysis.\n",
    "\n",
    "---\n",
    "\n",
    "**Data used in this notebook**\n",
    "- _Citrobacter sedlakii_ genome-scale metabolic model\n",
    "- LB media\n",
    "---"
   ]
  },
  {
   "cell_type": "code",
   "execution_count": 1,
   "metadata": {},
   "outputs": [],
   "source": [
    "import sys\n",
    "import os\n",
    "\n",
    "# Add local PyFBA to sys path so we can use the developer version\n",
    "sys.path.insert(0, os.path.expanduser(\"~\") + \"/database/ModelSEEDDatabase/\")\n",
    "\n",
    "import PyFBA"
   ]
  },
  {
   "cell_type": "markdown",
   "metadata": {},
   "source": [
    "## Load metabolic model\n",
    "\n",
    "_PyFBA_ contains two methods to load and save metabolic models.\n",
    "1. Metabolic model directories\n",
    "2. SBML files"
   ]
  },
  {
   "cell_type": "markdown",
   "metadata": {},
   "source": [
    "## Specify location of metabolic model\n",
    "You can specify the location of an existing model on your system, or generate a gap-filled model  using the Gap-fill_a_model notebook and an assigned_functions file."
   ]
  },
  {
   "cell_type": "code",
   "execution_count": 2,
   "metadata": {},
   "outputs": [
    {
     "name": "stdout",
     "output_type": "stream",
     "text": [
      "Number of reactions 1528\n",
      "Number of compounds 1428\n"
     ]
    }
   ],
   "source": [
    "modelDir = \"saved_models/\"\n",
    "orgName = \"Citrobacter_sedlakii\"\n",
    "\n",
    "model = PyFBA.model.load_model(modelDir, orgName)\n",
    "print(\"Number of reactions\", len(model.reactions))\n",
    "print(\"Number of compounds\", len(model.compounds))"
   ]
  },
  {
   "cell_type": "code",
   "execution_count": 4,
   "metadata": {},
   "outputs": [
    {
     "name": "stdout",
     "output_type": "stream",
     "text": [
      "Biomass flux: 358.249\n",
      "Growth: True\n"
     ]
    }
   ],
   "source": [
    "# Test its ability to grow in the LB media \"ArgonneLB.txt\"\n",
    "status, biomassFlux, growth = model.run_fba(media_file=\"ArgonneLB.txt\")\n",
    "print(\"Biomass flux: {:.3f}\".format(biomassFlux))\n",
    "print(\"Growth:\", growth)"
   ]
  },
  {
   "cell_type": "markdown",
   "metadata": {},
   "source": [
    "## Obtain flux distribution from reactions\n",
    "\n",
    "_PyFBA_ provides the capability to obtain the flux distribution resulting from a flux-balance analysis process. Using the `PyFBA.model.model_reaction_fluxes()` function, each reaction and their flux is returned as a Dictionary where:\n",
    "- **KEY:** ModelSEED Reaction ID (String)\n",
    "- **VALUE:** Reaction flux (float)"
   ]
  },
  {
   "cell_type": "code",
   "execution_count": 6,
   "metadata": {
    "scrolled": true
   },
   "outputs": [],
   "source": [
    "#biomass_equation = PyFBA.metabolism.biomass_equation(\"gramnegative\")\n",
    "rxnFluxes = PyFBA.model.model_reaction_fluxes(model=model, media_file=\"ArgonneLB.txt\")"
   ]
  },
  {
   "cell_type": "code",
   "execution_count": 7,
   "metadata": {
    "scrolled": true
   },
   "outputs": [
    {
     "name": "stdout",
     "output_type": "stream",
     "text": [
      "Number of non-zero flux reactions: 422 out of 1701\n",
      "Percent of reactions with non-zero flux: 24.81%\n"
     ]
    }
   ],
   "source": [
    "# Get number of reactions with a non-zero flux\n",
    "nonzeroRxns = {r: flux for r, flux in rxnFluxes.items() if flux != 0}\n",
    "print(\"Number of non-zero flux reactions:\", len(nonzeroRxns), \"out of\", len(rxnFluxes))\n",
    "print(\"Percent of reactions with non-zero flux: {:.2f}%\".format(len(nonzeroRxns) / len(rxnFluxes) * 100))"
   ]
  },
  {
   "cell_type": "markdown",
   "metadata": {},
   "source": [
    "### Uptake and secretion reactions\n",
    "\n",
    "The uptake and secretion reactions are designated as \"reaction sinks\". In practice they are indicated as **EX** reactions or with the SBML attribute **boundaryCondition** set to _True_. These reaction sinks are necessary to satisfy the steady-state assumption of flux-balance analysis.\n",
    "\n",
    "In _PyFBA_, we add these reactions when flux-balance analysis is executed. These are added based on all external compounds within the system:\n",
    "1. Media compounds\n",
    "2. External compounds from transports\n",
    "\n",
    "The flux values for these reaction sinks indicate the compounds transported into the cell from the media (**negative flux for uptake**) and the compounds secreted to the environment (**positive values for secretion**)."
   ]
  },
  {
   "cell_type": "code",
   "execution_count": 8,
   "metadata": {
    "scrolled": false
   },
   "outputs": [
    {
     "name": "stdout",
     "output_type": "stream",
     "text": [
      "Number of uptake/secretion reactions: 172\n"
     ]
    }
   ],
   "source": [
    "# Get uptake/secretion reactions\n",
    "usRxns = {r: flux for r, flux in rxnFluxes.items() if \"UPTAKE\" in r}\n",
    "print(\"Number of uptake/secretion reactions:\", len(usRxns))"
   ]
  },
  {
   "cell_type": "code",
   "execution_count": 9,
   "metadata": {
    "scrolled": false
   },
   "outputs": [
    {
     "name": "stdout",
     "output_type": "stream",
     "text": [
      "UPTAKE_SECRETION_REACTION cpd00039:\t-102.449\n",
      "UPTAKE_SECRETION_REACTION cpd00069:\t-41.235\n",
      "UPTAKE_SECRETION_REACTION cpd00027:\t-955.495\n",
      "UPTAKE_SECRETION_REACTION cpd00156:\t654.524\n",
      "UPTAKE_SECRETION_REACTION cpd00041:\t1000.000\n",
      "UPTAKE_SECRETION_REACTION cpd00205:\t-2.788\n",
      "UPTAKE_SECRETION_REACTION cpd00058:\t-2.788\n",
      "UPTAKE_SECRETION_REACTION cpd00035:\t1000.000\n",
      "UPTAKE_SECRETION_REACTION cpd00161:\t-950.677\n",
      "UPTAKE_SECRETION_REACTION cpd00107:\t-915.679\n",
      "UPTAKE_SECRETION_REACTION cpd00048:\t-35.693\n",
      "UPTAKE_SECRETION_REACTION cpd00226:\t-112.440\n",
      "UPTAKE_SECRETION_REACTION cpd00100:\t1000.000\n",
      "UPTAKE_SECRETION_REACTION cpd00067:\t908.039\n",
      "UPTAKE_SECRETION_REACTION cpd00034:\t-2.788\n",
      "UPTAKE_SECRETION_REACTION cpd00218:\t-5.575\n",
      "UPTAKE_SECRETION_REACTION cpd00092:\t-73.192\n",
      "UPTAKE_SECRETION_REACTION cpd00030:\t-2.788\n",
      "UPTAKE_SECRETION_REACTION cpd00129:\t-66.168\n",
      "UPTAKE_SECRETION_REACTION cpd00254:\t-2.788\n",
      "UPTAKE_SECRETION_REACTION cpd11416:\t358.249\n",
      "UPTAKE_SECRETION_REACTION cpd00065:\t-16.942\n",
      "UPTAKE_SECRETION_REACTION cpd00099:\t-2.788\n",
      "UPTAKE_SECRETION_REACTION cpd00119:\t-28.449\n",
      "UPTAKE_SECRETION_REACTION cpd00033:\t-114.402\n",
      "UPTAKE_SECRETION_REACTION cpd00013:\t1000.000\n",
      "UPTAKE_SECRETION_REACTION cpd00220:\t-5.575\n",
      "UPTAKE_SECRETION_REACTION cpd00060:\t-48.658\n",
      "UPTAKE_SECRETION_REACTION cpd10516:\t-1000.000\n",
      "UPTAKE_SECRETION_REACTION cpd00644:\t-5.575\n",
      "UPTAKE_SECRETION_REACTION cpd00063:\t-2.788\n",
      "UPTAKE_SECRETION_REACTION cpd00009:\t-304.183\n",
      "UPTAKE_SECRETION_REACTION cpd00149:\t-2.788\n",
      "UPTAKE_SECRETION_REACTION cpd00021:\t994.425\n",
      "UPTAKE_SECRETION_REACTION cpd00054:\t1000.000\n",
      "UPTAKE_SECRETION_REACTION cpd00051:\t-1000.000\n",
      "UPTAKE_SECRETION_REACTION cpd00066:\t-55.460\n",
      "UPTAKE_SECRETION_REACTION cpd00023:\t-668.453\n"
     ]
    }
   ],
   "source": [
    "# Print out uptake/secretion fluxes\n",
    "# Negative values indicate usage by the cell (UPTAKE)\n",
    "# Positive values indicate secretion by the cell (SECRETION)\n",
    "for r, flux in usRxns.items():\n",
    "    threshold = 0.000001\n",
    "    # Skip very small numbers\n",
    "    if flux > -threshold and flux < threshold:\n",
    "        continue\n",
    "        \n",
    "    print(\"{}:\\t{:.3f}\".format(r, flux))"
   ]
  }
 ],
 "metadata": {
  "kernelspec": {
   "display_name": "Python 3",
   "language": "python",
   "name": "python3"
  },
  "language_info": {
   "codemirror_mode": {
    "name": "ipython",
    "version": 3
   },
   "file_extension": ".py",
   "mimetype": "text/x-python",
   "name": "python",
   "nbconvert_exporter": "python",
   "pygments_lexer": "ipython3",
   "version": "3.6.9"
  }
 },
 "nbformat": 4,
 "nbformat_minor": 2
}
